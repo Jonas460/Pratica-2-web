{
  "nbformat": 4,
  "nbformat_minor": 0,
  "metadata": {
    "colab": {
      "name": "Questão-5(PE).ipynb",
      "provenance": [],
      "authorship_tag": "ABX9TyOqzNV8PTF5ZiCQccqrHgA6",
      "include_colab_link": true
    },
    "kernelspec": {
      "name": "python3",
      "display_name": "Python 3"
    }
  },
  "cells": [
    {
      "cell_type": "markdown",
      "metadata": {
        "id": "view-in-github",
        "colab_type": "text"
      },
      "source": [
        "<a href=\"https://colab.research.google.com/github/Jonas460/Pratica-2-web/blob/master/Quest%C3%A3o_5(PE).ipynb\" target=\"_parent\"><img src=\"https://colab.research.google.com/assets/colab-badge.svg\" alt=\"Open In Colab\"/></a>"
      ]
    },
    {
      "cell_type": "code",
      "metadata": {
        "id": "jwKX8ZJHIHlJ"
      },
      "source": [
        "import statistics\n",
        "import math\n",
        "from scipy import stats\n",
        "import numpy as np\n",
        "import pandas as pd\n",
        "import matplotlib.pyplot as plt\n",
        "#Nome - Francisco de Souza Torres Neto\n",
        "#Matrícula - 428053\n",
        "\n",
        "\n",
        "Recup = [3, 90, 23, 46, 2, 42, 47, 37, 12, 51, 11, 1, 3, 3, 45, 3, 4, 11, 2, 8, 56, 39, 22, 16, 5, 52]\n",
        "\n",
        "fig, (tb0) = plt.subplots(ncols=1, figsize=(10, 6))#bin = 5\n",
        "numBins0 = 5\n",
        "tb0.hist(Recup, numBins0, histtype='stepfilled', facecolor='green', alpha=0.8)\n",
        "tb0.set_title('Indivíduos contaminados pelo veneno de um inseto')\n",
        "tb0.set_xlabel('Tempo em horas de recuperação do indivíduo')\n",
        "tb0.set_ylabel('Quantidade')\n",
        "\n",
        "fig, (tb1) = plt.subplots(ncols=1, figsize=(10, 6))#bin = 6\n",
        "numBins1 = 6\n",
        "tb1.hist(Recup, numBins1, histtype='stepfilled', facecolor='red', alpha=0.8)\n",
        "tb1.set_title('Indivíduos contaminados pelo veneno de um inseto')\n",
        "tb1.set_xlabel('Tempo em horas de recuperação do indivíduo')\n",
        "tb1.set_ylabel('Quantidade')\n",
        "\n",
        "fig, (tb2) = plt.subplots(ncols=1, figsize=(10, 6))#bin = 7\n",
        "numBins2 = 7\n",
        "tb2.hist(Recup, numBins2, histtype='stepfilled', facecolor='blue', alpha=0.8)\n",
        "tb2.set_title('Indivíduos contaminados pelo veneno de um inseto')\n",
        "tb2.set_xlabel('Tempo em horas de recuperação do indivíduo')\n",
        "tb2.set_ylabel('Quantidade')\n",
        "\n",
        "\n",
        "\n",
        "\n",
        "\n",
        "fig.tight_layout()\n",
        "plt.show()"
      ],
      "execution_count": null,
      "outputs": []
    }
  ]
}